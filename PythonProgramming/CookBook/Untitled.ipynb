{
 "cells": [
  {
   "cell_type": "markdown",
   "id": "f23032a3-283c-4174-9d83-2c07932c3a06",
   "metadata": {},
   "source": [
    "# Essential Python Programming Topics for Machine Learning and AI\n",
    "\n",
    "## 1. Basic Python Programming\n",
    "- Variables and Data Types\n",
    "- Control Structures (if-else, loops)\n",
    "- Functions and Lambda Functions\n",
    "- List Comprehensions\n",
    "- Exception Handling\n",
    "\n",
    "## 2. Data Structures\n",
    "- Lists, Tuples, and Sets\n",
    "- Dictionaries\n",
    "- Arrays (using NumPy)\n",
    "\n",
    "## 3. Libraries and Frameworks\n",
    "- **NumPy**: Array operations, linear algebra\n",
    "- **Pandas**: Data manipulation, DataFrames, and Series\n",
    "- **Matplotlib & Seaborn**: Data visualization\n",
    "- **Scikit-learn**: Core machine learning algorithms\n",
    "- **TensorFlow** / **PyTorch**: Deep learning frameworks\n",
    "- **Keras**: High-level neural network API\n",
    "- **SciPy**: Scientific and technical computing\n",
    "- **NLTK** / **spaCy**: Natural Language Processing\n",
    "\n",
    "## 4. Data Handling and Manipulation\n",
    "- Reading/Writing Data Files (CSV, Excel, JSON)\n",
    "- Data Cleaning and Preprocessing\n",
    "- Handling Missing Data\n",
    "- Feature Engineering\n",
    "- Data Normalization and Scaling\n",
    "\n",
    "## 5. Mathematical Foundations\n",
    "- **Linear Algebra**: Vectors, matrices, matrix operations\n",
    "- **Probability and Statistics**: Probability distributions, statistical tests, hypothesis testing\n",
    "- **Calculus**: Differentiation, gradients (for optimization algorithms)\n",
    "\n",
    "## 6. Machine Learning Concepts\n",
    "- Supervised vs. Unsupervised Learning\n",
    "- Regression and Classification Algorithms\n",
    "- Decision Trees, Random Forests\n",
    "- k-Nearest Neighbors (k-NN)\n",
    "- Support Vector Machines (SVM)\n",
    "- Clustering (k-Means, Hierarchical)\n",
    "- Dimensionality Reduction (PCA, t-SNE)\n",
    "- Model Evaluation and Validation Techniques (Cross-validation, AUC-ROC)\n",
    "\n",
    "## 7. Deep Learning\n",
    "- Neural Networks (ANNs, CNNs, RNNs)\n",
    "- Activation Functions\n",
    "- Loss Functions\n",
    "- Backpropagation and Gradient Descent\n",
    "- Convolutional Neural Networks (CNNs) for image processing\n",
    "- Recurrent Neural Networks (RNNs) and LSTMs for sequential data\n",
    "\n",
    "## 8. Natural Language Processing (NLP)\n",
    "- Text Preprocessing (Tokenization, Lemmatization, Stemming)\n",
    "- Word Embeddings (Word2Vec, GloVe)\n",
    "- Sentiment Analysis\n",
    "- Text Classification\n",
    "\n",
    "## 9. Model Deployment\n",
    "- Saving and Loading Models (Pickle, Joblib)\n",
    "- Flask/Django for creating APIs\n",
    "- Model Serving (TensorFlow Serving, TorchServe)\n",
    "- Deployment on Cloud Platforms (AWS, GCP, Azure)\n",
    "\n",
    "## 10. Advanced Topics\n",
    "- Transfer Learning\n",
    "- Reinforcement Learning\n",
    "- Generative Adversarial Networks (GANs)\n",
    "- Time Series Forecasting\n",
    "- Hyperparameter Tuning (Grid Search, Random Search)\n",
    "- AutoML (Automated Machine Learning)\n",
    "\n",
    "## 11. Version Control and Collaboration\n",
    "- Git and GitHub for version control\n",
    "- Jupyter Notebooks for interactive development\n"
   ]
  },
  {
   "cell_type": "markdown",
   "id": "541c54e6-a87e-43d6-b3ca-323b5bf7af28",
   "metadata": {},
   "source": [
    "## 1. Basic Python Programming\n",
    "- Variables and Data Types\n",
    "- Control Structures (if-else, loops)\n",
    "- Functions and Lambda Functions\n",
    "- List Comprehensions\n",
    "- Exception Handling"
   ]
  },
  {
   "cell_type": "code",
   "execution_count": 1,
   "id": "dd048971-6a80-4ea4-9083-3ec42ca53450",
   "metadata": {},
   "outputs": [
    {
     "name": "stdout",
     "output_type": "stream",
     "text": [
      "(4, 5)\n"
     ]
    }
   ],
   "source": [
    "p = (4,5)\n",
    "print(p)\n"
   ]
  },
  {
   "cell_type": "markdown",
   "id": "91d53010-ebde-43a4-87d3-96e70dc8a1dd",
   "metadata": {},
   "source": [
    "## 2. Data Structures\n",
    "- Lists, Tuples, and Sets\n",
    "- Dictionaries\n",
    "- Arrays (using NumPy)"
   ]
  },
  {
   "cell_type": "markdown",
   "id": "18ceb691-ff9e-4941-ad36-361f44de86bb",
   "metadata": {},
   "source": [
    "## 3. Libraries and Frameworks\n",
    "- **NumPy**: Array operations, linear algebra\n",
    "- **Pandas**: Data manipulation, DataFrames, and Series\n",
    "- **Matplotlib & Seaborn**: Data visualization\n",
    "- **Scikit-learn**: Core machine learning algorithms\n",
    "- **TensorFlow** / **PyTorch**: Deep learning frameworks\n",
    "- **Keras**: High-level neural network API\n",
    "- **SciPy**: Scientific and technical computing\n",
    "- **NLTK** / **spaCy**: Natural Language Processing"
   ]
  },
  {
   "cell_type": "markdown",
   "id": "3c3f1303-0dd7-48ba-ab61-f07a03efb3a3",
   "metadata": {},
   "source": [
    "# Numpy"
   ]
  },
  {
   "cell_type": "markdown",
   "id": "0d39975c-e62d-4ebe-a968-e881902da1bd",
   "metadata": {},
   "source": [
    "## Creating and Manipulating Arrays\n",
    "Program: Create a 1D, 2D, and 3D array and print their shapes."
   ]
  },
  {
   "cell_type": "code",
   "execution_count": 6,
   "id": "ea116874-25e5-4046-9c69-35a2af68d799",
   "metadata": {},
   "outputs": [
    {
     "name": "stdout",
     "output_type": "stream",
     "text": [
      "1D Array: [ 1 12  3]\n",
      "2D Array:\n",
      " [[1 2 3]\n",
      " [4 5 6]]\n",
      "3D Array:\n",
      " [[[ 1  2  3]\n",
      "  [ 4  5  6]]\n",
      "\n",
      " [[ 7  8  9]\n",
      "  [10 11 12]]]\n",
      "Shapes: (3,) (2, 3) (2, 2, 3)\n",
      "True\n"
     ]
    }
   ],
   "source": [
    "import numpy as np\n",
    "\n",
    "arr1d = np.array([1, 12, 3])\n",
    "arr2d = np.array([[1, 2, 3], [4, 5, 6]])\n",
    "arr3d = np.array([[[1, 2, 3], [4, 5, 6]], [[7, 8, 9], [10, 11, 12]]])\n",
    "\n",
    "print(\"1D Array:\", arr1d)\n",
    "print(\"2D Array:\\n\", arr2d)\n",
    "print(\"3D Array:\\n\", arr3d)\n",
    "print(\"Shapes:\", arr1d.shape, arr2d.shape, arr3d.shape)\n",
    "print(arr1d.all())\n"
   ]
  },
  {
   "cell_type": "markdown",
   "id": "3697d3b9-d922-413a-892a-1fcb4d1c0c1d",
   "metadata": {},
   "source": [
    "## Array Indexing and Slicing\n",
    "- Program: Demonstrate slicing and indexing on a 2D array"
   ]
  },
  {
   "cell_type": "code",
   "execution_count": 9,
   "id": "525418bb-78b3-47c7-bf62-87bccb8601b3",
   "metadata": {},
   "outputs": [
    {
     "name": "stdout",
     "output_type": "stream",
     "text": [
      "[[ 4  5  6]\n",
      " [10 11 12]]\n"
     ]
    }
   ],
   "source": [
    "print(arr3d[:,1])"
   ]
  },
  {
   "cell_type": "markdown",
   "id": "27d08720-3d25-4caf-ae94-ea3c74f0974b",
   "metadata": {},
   "source": [
    "## Array Operations\n"
   ]
  },
  {
   "cell_type": "code",
   "execution_count": 16,
   "id": "30a2dc77-c9e5-419e-b950-98ed448dc5ee",
   "metadata": {},
   "outputs": [
    {
     "name": "stdout",
     "output_type": "stream",
     "text": [
      "[2 2]\n"
     ]
    }
   ],
   "source": [
    "arr1 = np.array([2,2])\n",
    "print(arr1)"
   ]
  },
  {
   "cell_type": "markdown",
   "id": "29019a2f-9793-4544-9590-7b0f0fd7ca50",
   "metadata": {},
   "source": [
    "## Broadcasting\n",
    "- Program: Demonstrate NumPy broadcasting by adding a 1D array to a 2D array"
   ]
  },
  {
   "cell_type": "code",
   "execution_count": 20,
   "id": "d2c042f7-0d8f-4915-841b-d43284c19762",
   "metadata": {},
   "outputs": [
    {
     "name": "stdout",
     "output_type": "stream",
     "text": [
      "Broadcasted Result:\n",
      " [[11 22 33]\n",
      " [14 25 36]]\n"
     ]
    }
   ],
   "source": [
    "import numpy as np\n",
    "\n",
    "arr2d = np.array([[1, 2, 3], [4, 5, 6]])\n",
    "arr1d = np.array([10, 20, 30])\n",
    "\n",
    "result = arr2d + arr1d\n",
    "\n",
    "print(\"Broadcasted Result:\\n\", result)\n"
   ]
  },
  {
   "cell_type": "markdown",
   "id": "ba937d87-4f24-420a-8676-6432f817b812",
   "metadata": {},
   "source": [
    "## Array Aggregations\n",
    "- sum, mean, max, min"
   ]
  },
  {
   "cell_type": "code",
   "execution_count": 27,
   "id": "3f59871d-95b7-4c7d-8ace-7ea4488e77ad",
   "metadata": {},
   "outputs": [
    {
     "name": "stdout",
     "output_type": "stream",
     "text": [
      "5\n",
      "5\n",
      "[11 12 13 14 15]\n"
     ]
    }
   ],
   "source": [
    "a1 = np.array([1,2,3,4,5])\n",
    "print(a1.max())\n",
    "print(np.max(a1))\n",
    "print(a1+10)"
   ]
  },
  {
   "cell_type": "markdown",
   "id": "53c6d7c9-9326-4425-a070-d37d8303b538",
   "metadata": {},
   "source": [
    "## Reshaping"
   ]
  },
  {
   "cell_type": "markdown",
   "id": "d986c27c-b683-410f-9648-cc374943fcdd",
   "metadata": {},
   "source": [
    "a1 = np.array([[1,2,3],[4,5,6]])\n",
    "a2 = a1.reshape([6])\n",
    "print(a2)"
   ]
  },
  {
   "cell_type": "markdown",
   "id": "d21807a9-8ccf-4413-8534-61bd1b6ae44a",
   "metadata": {},
   "source": [
    "## Matrix multiplication"
   ]
  },
  {
   "cell_type": "code",
   "execution_count": 39,
   "id": "4e7bb887-e116-4974-aff1-4d07fd2694b9",
   "metadata": {},
   "outputs": [
    {
     "name": "stdout",
     "output_type": "stream",
     "text": [
      "[[ 2  4  6]\n",
      " [ 8 10 12]]\n",
      "[[ 1  4  9]\n",
      " [16 25 36]]\n",
      "[[30 36 42]\n",
      " [66 81 96]]\n"
     ]
    }
   ],
   "source": [
    "arr2d_1 = np.array([[1, 2, 3], [4, 5, 6]])\n",
    "arr2d_2 = np.array([[1, 2, 3], [4, 5, 6]])\n",
    "arr2d_3 = np.array([[1, 2, 3], [4, 5, 6],[7,8,9]])\n",
    "print(arr2d_1 + arr2d_2)\n",
    "print(arr2d_1 * arr2d_2)\n",
    "print(np.matmul(arr2d_1, arr2d_3))\n",
    "arr2d_1.sort()"
   ]
  },
  {
   "cell_type": "code",
   "execution_count": 1,
   "id": "57d013e4-eda9-4dcf-a9f2-6a86cd54ad81",
   "metadata": {},
   "outputs": [
    {
     "name": "stdout",
     "output_type": "stream",
     "text": [
      "   Name  Age           City\n",
      "0  Dave   40  San Francisco\n",
      "1   Eve   22        Houston\n"
     ]
    }
   ],
   "source": [
    "import pandas as pd\n",
    "# Create a DataFrame from a list of lists\n",
    "df2 = pd.DataFrame([\n",
    "    ['Dave', 40, 'San Francisco'],\n",
    "    ['Eve', 22, 'Houston']\n",
    "], columns=['Name', 'Age', 'City'])\n",
    "print(df2)\n"
   ]
  },
  {
   "cell_type": "code",
   "execution_count": null,
   "id": "026abe79-d1cc-46d6-aedc-d99d1d8aeda2",
   "metadata": {},
   "outputs": [
    {
     "name": "stdout",
     "output_type": "stream",
     "text": [
      "\u001b[34m==>\u001b[0m \u001b[1mAuto-updating Homebrew...\u001b[0m\n",
      "Adjust how often this is run with HOMEBREW_AUTO_UPDATE_SECS or disable with\n",
      "HOMEBREW_NO_AUTO_UPDATE. Hide these hints with HOMEBREW_NO_ENV_HINTS (see `man brew`).\n"
     ]
    }
   ],
   "source": [
    "!brew install pandas\n"
   ]
  },
  {
   "cell_type": "code",
   "execution_count": 15,
   "id": "4ebfd405-ea4f-4f43-9a79-85631f3d0c2a",
   "metadata": {},
   "outputs": [
    {
     "name": "stdout",
     "output_type": "stream",
     "text": [
      "{'Names': ['a', 'b', 'c', 'd', 'e', 'f', 'g', 'h'], 'ranks': [0, nan, 2, 3, 4, 5, 6, 7]}\n",
      "  Names  ranks\n",
      "0     a    0.0\n",
      "1     b    0.0\n",
      "2     c    2.0\n",
      "3     d    3.0\n",
      "4     e    4.0\n",
      "5     f    5.0\n",
      "6     g    6.0\n",
      "7     h    7.0\n"
     ]
    }
   ],
   "source": [
    "import pandas as pd\n",
    "import numpy as np\n",
    "mydata = {\"Names\":\"a,b,c,d,e,f,g,h\".split(\",\"), \"ranks\":[i  for i in range(8)]}\n",
    "mydata[\"ranks\"][1] = np.nan\n",
    "print(mydata)\n",
    "d1 = pd.DataFrame(data=mydata)\n",
    "d2 = d1.fillna(0)\n",
    "print(d2)"
   ]
  },
  {
   "cell_type": "code",
   "execution_count": 14,
   "id": "9afdc612-bcc6-49f4-ae05-d73396c95f52",
   "metadata": {},
   "outputs": [
    {
     "name": "stdout",
     "output_type": "stream",
     "text": [
      "  Names  ranks\n",
      "0     a    0.0\n",
      "1     b    0.0\n",
      "2     c    2.0\n",
      "3     d    3.0\n",
      "4     e    4.0\n",
      "5     f    5.0\n",
      "6     g    6.0\n",
      "7     h    7.0\n"
     ]
    }
   ],
   "source": [
    "import pandas as pd\n",
    "import numpy as np\n",
    "\n",
    "# Create the dictionary with data\n",
    "mydata = {\n",
    "    \"Names\": \"a,b,c,d,e,f,g,h\".split(\",\"),\n",
    "    \"ranks\": [i for i in range(8)]\n",
    "}\n",
    "\n",
    "# Introduce NaN into the data\n",
    "mydata[\"ranks\"][1] = np.nan\n",
    "\n",
    "# Create a DataFrame\n",
    "d1 = pd.DataFrame(data=mydata)\n",
    "\n",
    "# Fill NaN values with 0 (without modifying the original DataFrame)\n",
    "d1_filled = d1.fillna(0)\n",
    "\n",
    "# Print the filled DataFrame\n",
    "print(d1_filled)\n"
   ]
  },
  {
   "cell_type": "code",
   "execution_count": 60,
   "id": "a7f3bcf8-6699-4f1b-8d7d-1ee39e2c5291",
   "metadata": {},
   "outputs": [
    {
     "name": "stdout",
     "output_type": "stream",
     "text": [
      "   TransactionID  ProductID  Quantity  Price TransactionsData\n",
      "0              1          9         1    2.0       2024-08-01\n",
      "1              2          9         2    9.0       2024-08-02\n",
      "2              3          9         3    3.0       2024-08-03\n",
      "3              4          9         1    NaN       2024-08-04\n",
      "4              5          9         1    2.0       2024-08-05\n",
      "5              6          9         2    NaN       2024-08-06\n",
      "6              7          9         1    NaN       2024-08-07\n",
      "7              8          9         4    NaN       2024-08-08\n",
      "8              9          9         5    3.0       2024-08-09\n",
      "9             10          9        10    9.0       2024-08-10\n",
      "   TransactionID  ProductID  Quantity  Price TransactionsData\n",
      "0              1          5         1    0.0       2024-08-01\n",
      "1              2          5         2    0.0       2024-08-02\n",
      "2              3          5         3    3.0       2024-08-03\n",
      "3              4          5         1    2.0       2024-08-04\n",
      "4              5          5         1    9.0       2024-08-05\n",
      "5              6          5         2    3.0       2024-08-06\n",
      "6              7          5         1    2.0       2024-08-07\n",
      "7              8          5         4    1.0       2024-08-08\n",
      "8              9          5         5    2.0       2024-08-09\n",
      "9             10          5        10    0.0       2024-08-10\n",
      "   TransactionID  ProductID  Quantity  Price TransactionsData  Sales\n",
      "0              1          9         1    2.0       2024-08-01    2.0\n",
      "1              2          9         2    9.0       2024-08-02   18.0\n",
      "2              3          9         3    3.0       2024-08-03    9.0\n",
      "3              4          9         1    NaN       2024-08-04    NaN\n",
      "4              5          9         1    2.0       2024-08-05    2.0\n",
      "5              6          9         2    NaN       2024-08-06    NaN\n",
      "6              7          9         1    NaN       2024-08-07    NaN\n",
      "7              8          9         4    NaN       2024-08-08    NaN\n",
      "8              9          9         5    3.0       2024-08-09   15.0\n",
      "9             10          9        10    9.0       2024-08-10   90.0\n"
     ]
    }
   ],
   "source": [
    "\n",
    "import numpy as np\n",
    "import pandas as pd\n",
    "\n",
    "\n",
    "SalesData = {\n",
    "    'TransactionID': range(1,11),\n",
    "    'ProductID': np.random.randint(10),\n",
    "    'Quantity': [1,2,3,1,1,2,1,4,5,10],\n",
    "    'Price':np.random.choice([1,2,3,np.nan, 9.0],10),\n",
    "    'TransactionsData': pd.date_range(start=\"2024-08-1\", periods=10, freq='D')\n",
    "}\n",
    "\n",
    "d1 = pd.DataFrame(data=SalesData)\n",
    "print(d1)\n",
    "# Replace NAN with 0\n",
    "#d1['Price'] = d1['Price'].apply(lambda x: 0 if x==np.nan else x)\n",
    "# d2 = d1.fillna(0)\n",
    "d1[\"Price\"] = [0 if item==np.nan else item for item in d1[\"Price\"]] \n",
    "print(d2)\n",
    "# Add Calculating sales\n",
    "d1['Sales'] = d1['Quantity']*d1['Price']\n",
    "print(d1)\n"
   ]
  },
  {
   "cell_type": "code",
   "execution_count": 61,
   "id": "15b452dd-f1fb-47c0-9913-71712d6bb826",
   "metadata": {},
   "outputs": [
    {
     "ename": "TypeError",
     "evalue": "'module' object is not callable",
     "output_type": "error",
     "traceback": [
      "\u001b[0;31m---------------------------------------------------------------------------\u001b[0m",
      "\u001b[0;31mTypeError\u001b[0m                                 Traceback (most recent call last)",
      "Cell \u001b[0;32mIn[61], line 1\u001b[0m\n\u001b[0;32m----> 1\u001b[0m \u001b[43mpd\u001b[49m\u001b[38;5;241;43m.\u001b[39;49m\u001b[43mplotting\u001b[49m\u001b[43m(\u001b[49m\u001b[43m)\u001b[49m\n",
      "\u001b[0;31mTypeError\u001b[0m: 'module' object is not callable"
     ]
    }
   ],
   "source": [
    "#Filter list where"
   ]
  },
  {
   "cell_type": "code",
   "execution_count": null,
   "id": "5d5e4d32-cbeb-4333-a745-a83db713d309",
   "metadata": {},
   "outputs": [],
   "source": []
  }
 ],
 "metadata": {
  "kernelspec": {
   "display_name": "Python 3 (ipykernel)",
   "language": "python",
   "name": "python3"
  },
  "language_info": {
   "codemirror_mode": {
    "name": "ipython",
    "version": 3
   },
   "file_extension": ".py",
   "mimetype": "text/x-python",
   "name": "python",
   "nbconvert_exporter": "python",
   "pygments_lexer": "ipython3",
   "version": "3.12.5"
  }
 },
 "nbformat": 4,
 "nbformat_minor": 5
}
