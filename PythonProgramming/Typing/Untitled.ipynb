{
 "cells": [
  {
   "cell_type": "code",
   "execution_count": 3,
   "id": "c465f5c6-881f-45ce-bfbc-ef0bc5d117ca",
   "metadata": {},
   "outputs": [
    {
     "name": "stdout",
     "output_type": "stream",
     "text": [
      "[('database', True, 100), ('webserver', 'Hello', 'failed to start')]\n"
     ]
    }
   ],
   "source": [
    "from typing import List, Tuple\n",
    "\n",
    "class Deployer:\n",
    "    def deploy_components(self) -> List[Tuple[str, bool, str]]:\n",
    "        return [\n",
    "            (\"database\", True, 100),\n",
    "            (\"webserver\", \"Hello\", \"failed to start\"),\n",
    "        ]\n",
    "\n",
    "d = Deployer()\n",
    "print(d.deploy_components())\n"
   ]
  },
  {
   "cell_type": "code",
   "execution_count": null,
   "id": "cc02c2f6-810c-4ef2-b114-516a73ca1e12",
   "metadata": {},
   "outputs": [],
   "source": []
  }
 ],
 "metadata": {
  "kernelspec": {
   "display_name": "Python3 (DeepCode)",
   "language": "python",
   "name": "deepcode"
  },
  "language_info": {
   "codemirror_mode": {
    "name": "ipython",
    "version": 3
   },
   "file_extension": ".py",
   "mimetype": "text/x-python",
   "name": "python",
   "nbconvert_exporter": "python",
   "pygments_lexer": "ipython3",
   "version": "3.13.5"
  }
 },
 "nbformat": 4,
 "nbformat_minor": 5
}
